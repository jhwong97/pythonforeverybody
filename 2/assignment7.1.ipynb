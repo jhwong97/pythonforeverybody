{
 "cells": [
  {
   "cell_type": "code",
   "execution_count": 1,
   "id": "94000bea",
   "metadata": {},
   "outputs": [
    {
     "name": "stdout",
     "output_type": "stream",
     "text": [
      "Enter file name:okokmou\n",
      "The file is not found in the location, okokmou\n"
     ]
    },
    {
     "ename": "NameError",
     "evalue": "name 'fh' is not defined",
     "output_type": "error",
     "traceback": [
      "\u001b[1;31m---------------------------------------------------------------------------\u001b[0m",
      "\u001b[1;31mNameError\u001b[0m                                 Traceback (most recent call last)",
      "Cell \u001b[1;32mIn [1], line 9\u001b[0m\n\u001b[0;32m      6\u001b[0m     \u001b[38;5;28mprint\u001b[39m(\u001b[38;5;124m\"\u001b[39m\u001b[38;5;124mThe file is not found in the location,\u001b[39m\u001b[38;5;124m\"\u001b[39m, fname)\n\u001b[0;32m      7\u001b[0m     quit()\n\u001b[1;32m----> 9\u001b[0m \u001b[38;5;28;01mfor\u001b[39;00m line \u001b[38;5;129;01min\u001b[39;00m \u001b[43mfh\u001b[49m:\n\u001b[0;32m     10\u001b[0m     line \u001b[38;5;241m=\u001b[39m line\u001b[38;5;241m.\u001b[39mrstrip()\u001b[38;5;241m.\u001b[39mupper()\n\u001b[0;32m     11\u001b[0m     \u001b[38;5;28mprint\u001b[39m(line)\n",
      "\u001b[1;31mNameError\u001b[0m: name 'fh' is not defined"
     ]
    }
   ],
   "source": [
    "# Assignment7.1\n",
    "# Use words.txt as the file name\n",
    "\n",
    "fname = input(\"Enter file name:\")\n",
    "try:\n",
    "    fh = open(fname)\n",
    "except:\n",
    "    print(\"The file is not found in the location,\", fname)\n",
    "    quit()\n",
    "\n",
    "for line in fh:\n",
    "    line = line.rstrip().upper()\n",
    "    print(line)\n",
    "    \n",
    "    "
   ]
  },
  {
   "cell_type": "code",
   "execution_count": null,
   "id": "20e0ce4a",
   "metadata": {},
   "outputs": [],
   "source": []
  }
 ],
 "metadata": {
  "kernelspec": {
   "display_name": "Python 3 (ipykernel)",
   "language": "python",
   "name": "python3"
  },
  "language_info": {
   "codemirror_mode": {
    "name": "ipython",
    "version": 3
   },
   "file_extension": ".py",
   "mimetype": "text/x-python",
   "name": "python",
   "nbconvert_exporter": "python",
   "pygments_lexer": "ipython3",
   "version": "3.11.0"
  }
 },
 "nbformat": 4,
 "nbformat_minor": 5
}
