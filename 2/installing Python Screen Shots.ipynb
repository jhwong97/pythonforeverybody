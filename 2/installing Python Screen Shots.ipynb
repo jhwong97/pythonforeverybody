{
 "cells": [
  {
   "cell_type": "code",
   "execution_count": 2,
   "id": "a4f08fc4",
   "metadata": {},
   "outputs": [
    {
     "name": "stdout",
     "output_type": "stream",
     "text": [
      "I'm using Jupyter Notebook as my text editor \n"
     ]
    }
   ],
   "source": [
    "print(\"I'm using Jupyter Notebook as my text editor \")"
   ]
  },
  {
   "cell_type": "code",
   "execution_count": null,
   "id": "fa0a467e",
   "metadata": {},
   "outputs": [],
   "source": []
  }
 ],
 "metadata": {
  "kernelspec": {
   "display_name": "Python 3 (ipykernel)",
   "language": "python",
   "name": "python3"
  },
  "language_info": {
   "codemirror_mode": {
    "name": "ipython",
    "version": 3
   },
   "file_extension": ".py",
   "mimetype": "text/x-python",
   "name": "python",
   "nbconvert_exporter": "python",
   "pygments_lexer": "ipython3",
   "version": "3.11.0"
  }
 },
 "nbformat": 4,
 "nbformat_minor": 5
}
