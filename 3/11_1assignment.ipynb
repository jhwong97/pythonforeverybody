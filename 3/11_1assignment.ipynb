{
 "cells": [
  {
   "cell_type": "code",
   "execution_count": 26,
   "id": "3f3d9d15",
   "metadata": {},
   "outputs": [
    {
     "name": "stdout",
     "output_type": "stream",
     "text": [
      "actualdata.txt\n",
      "450122\n"
     ]
    }
   ],
   "source": [
    "import re\n",
    "\n",
    "fn = input()\n",
    "fh = open(fn)\n",
    "\n",
    "count = 0\n",
    "\n",
    "# To filter the line and extract the only interested data\n",
    "for line in fh:\n",
    "    line = line.rstrip()\n",
    "    item = re.findall('[0-9]+', line)\n",
    "    if len(item) == 0 : continue\n",
    "\n",
    "# To convert string into int and sum it out\n",
    "    for x in item:\n",
    "        x = int(x)\n",
    "        count = count + x\n",
    "print(count)"
   ]
  },
  {
   "cell_type": "code",
   "execution_count": null,
   "id": "d9f11385",
   "metadata": {},
   "outputs": [],
   "source": [
    "help(list)"
   ]
  },
  {
   "cell_type": "code",
   "execution_count": null,
   "id": "d0be97a6",
   "metadata": {},
   "outputs": [],
   "source": []
  }
 ],
 "metadata": {
  "kernelspec": {
   "display_name": "Python 3 (ipykernel)",
   "language": "python",
   "name": "python3"
  },
  "language_info": {
   "codemirror_mode": {
    "name": "ipython",
    "version": 3
   },
   "file_extension": ".py",
   "mimetype": "text/x-python",
   "name": "python",
   "nbconvert_exporter": "python",
   "pygments_lexer": "ipython3",
   "version": "3.11.0"
  }
 },
 "nbformat": 4,
 "nbformat_minor": 5
}
