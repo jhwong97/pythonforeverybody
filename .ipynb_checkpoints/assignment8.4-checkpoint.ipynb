{
 "cells": [
  {
   "cell_type": "code",
   "execution_count": 1,
   "id": "8156f075",
   "metadata": {},
   "outputs": [
    {
     "name": "stdout",
     "output_type": "stream",
     "text": [
      "Enter file name: romeo.txt\n",
      "['Arise', 'But', 'It', 'Juliet', 'Who', 'already', 'and', 'breaks', 'east', 'envious', 'fair', 'grief', 'is', 'kill', 'light', 'moon', 'pale', 'sick', 'soft', 'sun', 'the', 'through', 'what', 'window', 'with', 'yonder']\n"
     ]
    }
   ],
   "source": [
    "# Solution 1\n",
    "\n",
    "fname = input(\"Enter file name: \")\n",
    "fh = open(fname)\n",
    "lst = list()\n",
    "\n",
    "for line in fh:\n",
    "    line = line.rstrip().split()\n",
    "    for i in line:\n",
    "        if i not in lst:\n",
    "            lst.append(i)\n",
    "    \n",
    "lst.sort()\n",
    "print(lst)"
   ]
  },
  {
   "cell_type": "raw",
   "id": "ce8711cb",
   "metadata": {},
   "source": []
  },
  {
   "cell_type": "code",
   "execution_count": null,
   "id": "12dfa25a",
   "metadata": {},
   "outputs": [],
   "source": [
    "# Solution 2\n",
    "\n",
    "fname = input(\"Enter file name: \")\n",
    "fh = open(fname)\n",
    "lst = list()\n",
    "new_lst = list()\n",
    "\n",
    "for line in fh:\n",
    "    x = line.rstrip().split()\n",
    "    lst.extend(x)\n",
    "    \n",
    "for i in lst:\n",
    "    if i not in new_lst:\n",
    "        new_lst.append(i)\n",
    "        \n",
    "new_lst.sort()\n",
    "print(new_lst)"
   ]
  }
 ],
 "metadata": {
  "kernelspec": {
   "display_name": "Python 3 (ipykernel)",
   "language": "python",
   "name": "python3"
  },
  "language_info": {
   "codemirror_mode": {
    "name": "ipython",
    "version": 3
   },
   "file_extension": ".py",
   "mimetype": "text/x-python",
   "name": "python",
   "nbconvert_exporter": "python",
   "pygments_lexer": "ipython3",
   "version": "3.11.0"
  }
 },
 "nbformat": 4,
 "nbformat_minor": 5
}
