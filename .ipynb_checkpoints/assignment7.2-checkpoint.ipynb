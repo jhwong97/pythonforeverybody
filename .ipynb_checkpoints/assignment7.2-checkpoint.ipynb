{
 "cells": [
  {
   "cell_type": "code",
   "execution_count": 6,
   "id": "c1e1509e",
   "metadata": {},
   "outputs": [
    {
     "name": "stdout",
     "output_type": "stream",
     "text": [
      "Enter file name: mbox-short.txt\n",
      "0.8475\n",
      "0.6178\n",
      "0.6961\n",
      "0.7565\n",
      "0.7626\n",
      "0.7556\n",
      "0.7002\n",
      "0.7615\n",
      "0.7601\n",
      "0.7605\n",
      "0.6959\n",
      "0.7606\n",
      "0.7559\n",
      "0.7605\n",
      "0.6932\n",
      "0.7558\n",
      "0.6526\n",
      "0.6948\n",
      "0.6528\n",
      "0.7002\n",
      "0.7554\n",
      "0.6956\n",
      "0.6959\n",
      "0.7556\n",
      "0.9846\n",
      "0.8509\n",
      "0.9907\n",
      "27\n",
      "20.269400000000005\n",
      "Average spam confidence:  0.7507185185185187\n",
      "Done\n"
     ]
    }
   ],
   "source": [
    "# Use the file name mbox-short.txt as the file name\n",
    "# Write a program that prompts for a file name, then opens that file and reads through the file, looking for lines of the form:\n",
    "# X-DSPAM-Confidence:    0.8475\n",
    "# Count these lines and extract the floating point values from each of the lines \n",
    "# and compute the average of those values and produce an output as shown below. \n",
    "# Do not use the sum() function or a variable named sum in your solution.\n",
    "\n",
    "fname = input(\"Enter file name: \")\n",
    "fh = open(fname)\n",
    "count = 0\n",
    "fvalue = 0\n",
    "for line in fh:\n",
    "    line = line.rstrip()\n",
    "    if not line.startswith(\"X-DSPAM-Confidence:\"):\n",
    "        continue\n",
    "    new_line = line.replace(\"X-DSPAM-Confidence: \",\"\")\n",
    "    fvalue = fvalue + float(new_line)\n",
    "    count = count + 1\n",
    "    ave_value = fvalue/count\n",
    "    print(new_line)\n",
    "    \n",
    "print(count)\n",
    "print(fvalue)\n",
    "print(\"Average spam confidence: \",ave_value)\n",
    "\n",
    "print(\"Done\")"
   ]
  },
  {
   "cell_type": "code",
   "execution_count": null,
   "id": "8b173f70",
   "metadata": {},
   "outputs": [],
   "source": []
  }
 ],
 "metadata": {
  "kernelspec": {
   "display_name": "Python 3 (ipykernel)",
   "language": "python",
   "name": "python3"
  },
  "language_info": {
   "codemirror_mode": {
    "name": "ipython",
    "version": 3
   },
   "file_extension": ".py",
   "mimetype": "text/x-python",
   "name": "python",
   "nbconvert_exporter": "python",
   "pygments_lexer": "ipython3",
   "version": "3.11.0"
  }
 },
 "nbformat": 4,
 "nbformat_minor": 5
}
